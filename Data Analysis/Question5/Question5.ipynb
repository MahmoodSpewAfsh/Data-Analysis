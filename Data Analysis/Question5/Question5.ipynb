{
 "cells": [
  {
   "cell_type": "code",
   "execution_count": 2,
   "metadata": {},
   "outputs": [],
   "source": [
    "import scipy\n",
    "import numpy as np"
   ]
  },
  {
   "cell_type": "code",
   "execution_count": 3,
   "metadata": {},
   "outputs": [],
   "source": [
    "Data2 = np.loadtxt(\"0.2.txt\")\n",
    "Data5 = np.loadtxt(\"0.5.txt\")\n",
    "Data8 = np.loadtxt(\"0.8.txt\")"
   ]
  },
  {
   "cell_type": "code",
   "execution_count": 4,
   "metadata": {},
   "outputs": [],
   "source": [
    "r25, p25 = scipy.stats.pearsonr(Data2, Data5)\n",
    "r28, p28 = scipy.stats.pearsonr(Data2, Data8)\n",
    "r58, p58 = scipy.stats.pearsonr(Data5, Data8)"
   ]
  },
  {
   "cell_type": "code",
   "execution_count": 11,
   "metadata": {},
   "outputs": [],
   "source": [
    "sr25, sp25 = Ds25 = scipy.stats.spearmanr(Data2, Data5)\n",
    "sr28, sp28 = Ds28 = scipy.stats.spearmanr(Data2, Data8)\n",
    "sr58, sp58 = Ds58 = scipy.stats.spearmanr(Data5, Data8)"
   ]
  },
  {
   "cell_type": "code",
   "execution_count": 9,
   "metadata": {},
   "outputs": [
    {
     "name": "stdout",
     "output_type": "stream",
     "text": [
      "0.07103334203544083\n",
      "-0.011919574251514166\n",
      "0.014294123624681267\n"
     ]
    }
   ],
   "source": [
    "print(r25)\n",
    "print(r28)\n",
    "print(r58)"
   ]
  },
  {
   "cell_type": "code",
   "execution_count": 12,
   "metadata": {},
   "outputs": [
    {
     "name": "stdout",
     "output_type": "stream",
     "text": [
      "0.07103334203544083\n",
      "-0.011919574251514166\n",
      "0.014294123624681267\n"
     ]
    }
   ],
   "source": [
    "print(sr25)\n",
    "print(sr28)\n",
    "print(sr58)"
   ]
  }
 ],
 "metadata": {
  "kernelspec": {
   "display_name": "Python 3",
   "language": "python",
   "name": "python3"
  },
  "language_info": {
   "codemirror_mode": {
    "name": "ipython",
    "version": 3
   },
   "file_extension": ".py",
   "mimetype": "text/x-python",
   "name": "python",
   "nbconvert_exporter": "python",
   "pygments_lexer": "ipython3",
   "version": "3.8.10"
  }
 },
 "nbformat": 4,
 "nbformat_minor": 2
}
