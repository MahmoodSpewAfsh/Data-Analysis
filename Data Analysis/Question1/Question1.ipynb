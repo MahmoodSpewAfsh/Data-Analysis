{
 "cells": [
  {
   "cell_type": "markdown",
   "metadata": {},
   "source": [
    "This code is created to Answer Question 1 of Exercise set 1 of RESEARCH METHODS COURSE By Mahmood Hasani ."
   ]
  },
  {
   "cell_type": "markdown",
   "metadata": {},
   "source": [
    "in The First Cell I am going to import some important libraries such as numpy for matrix operations, matplotlib for sketching data, sympy for making symbolic functions to do calculus, math for some special mathematical functions, pandas for save the output as CSV file."
   ]
  },
  {
   "cell_type": "code",
   "execution_count": 1,
   "metadata": {},
   "outputs": [],
   "source": [
    "import numpy as np\n",
    "import matplotlib.pyplot as plt\n",
    "from sympy import Symbol\n",
    "import sympy\n",
    "import math\n",
    "from sympy import lambdify\n",
    "import pandas as pd"
   ]
  },
  {
   "cell_type": "markdown",
   "metadata": {},
   "source": [
    "In the next 2 cells We are going to load the data from the uploaded files \"x_new\" and \"y_new\""
   ]
  },
  {
   "cell_type": "code",
   "execution_count": 2,
   "metadata": {},
   "outputs": [],
   "source": [
    "xData = np.loadtxt(\"x_new.txt\")"
   ]
  },
  {
   "cell_type": "code",
   "execution_count": 3,
   "metadata": {},
   "outputs": [],
   "source": [
    "yData = np.loadtxt(\"y_new.txt\")"
   ]
  },
  {
   "cell_type": "markdown",
   "metadata": {},
   "source": [
    "in the next 3 cells we are going to seperate the y and x values and their errors and save them in the seperate numpy arrays"
   ]
  },
  {
   "cell_type": "code",
   "execution_count": 4,
   "metadata": {},
   "outputs": [],
   "source": [
    "Label = xData[:, 0].astype(int)"
   ]
  },
  {
   "cell_type": "code",
   "execution_count": 5,
   "metadata": {},
   "outputs": [],
   "source": [
    "xval = xData[:, 1]\n",
    "xer1 = xData[:, 2]"
   ]
  },
  {
   "cell_type": "code",
   "execution_count": 6,
   "metadata": {},
   "outputs": [],
   "source": [
    "yval = yData[:, 1]\n",
    "yer1 = yData[:, 2]"
   ]
  },
  {
   "cell_type": "code",
   "execution_count": 7,
   "metadata": {},
   "outputs": [],
   "source": [
    "zval = np.tanh(xval**2) + np.exp(yval)"
   ]
  },
  {
   "cell_type": "code",
   "execution_count": 8,
   "metadata": {},
   "outputs": [
    {
     "data": {
      "text/plain": [
       "array([ 5.78246695,  8.26279666,  4.54365807,  5.2397204 ,  8.13116016,\n",
       "       12.64170547, 27.18285024, 15.59070091, 29.66853709,  5.77722897,\n",
       "       18.65344106, 11.14946691,  6.4963607 , 37.09188415, 25.36986002,\n",
       "       30.90235406, 12.06749199,  6.72890014,  9.55901822, 10.49372995,\n",
       "       15.24620988,  8.26479121,  7.07583199, 15.62255771, 40.89425821,\n",
       "        9.66154978, 15.0724614 , 16.86589002, 30.11964753, 13.17398748,\n",
       "       35.38573129, 33.83110384, 24.15687672,  8.91787996, 25.87772581,\n",
       "       18.48761282, 36.66869003, 20.00919229, 20.29143345, 26.00696719,\n",
       "       13.36845803, 20.18492652, 21.20529186, 12.58661752, 17.13663375,\n",
       "       49.74109587, 40.82246374, 28.92430618,  9.37025128, 13.97935318,\n",
       "       12.673499  , 50.07349208, 47.55317894, 27.88083707, 22.90761971,\n",
       "       39.14978615, 16.40165924, 10.84984229, 54.77295958, 16.52155871,\n",
       "       27.5484336 , 29.54963402, 54.52685168, 13.68181941, 32.35770952,\n",
       "       55.01883085, 12.66896314, 49.41751976, 41.4035203 , 27.11580236,\n",
       "       11.7547075 , 11.58374408, 27.96270312, 37.75163798, 24.59831018,\n",
       "       54.0972378 , 13.60279798, 21.81453166, 14.92408013, 24.77291693,\n",
       "       15.09312438, 32.02578839, 10.25195626, 20.83273867, 10.56086311,\n",
       "       30.57314455, 57.19486756,  9.84346172, 15.405631  , 45.07679056,\n",
       "       23.81223122, 40.16239684,  8.74331121, 16.80138006,  9.54293205,\n",
       "       11.39364442, 10.64676891, 14.66257447, 26.29001555, 38.95366052])"
      ]
     },
     "execution_count": 8,
     "metadata": {},
     "output_type": "execute_result"
    }
   ],
   "source": [
    "zval"
   ]
  },
  {
   "cell_type": "code",
   "execution_count": 9,
   "metadata": {},
   "outputs": [],
   "source": [
    "x = Symbol('x')\n",
    "y = Symbol('y')\n",
    "z = sympy.tanh(x**2) + sympy.exp(y)"
   ]
  },
  {
   "cell_type": "code",
   "execution_count": 10,
   "metadata": {},
   "outputs": [],
   "source": [
    "zprimex = z.diff(x)"
   ]
  },
  {
   "cell_type": "code",
   "execution_count": 11,
   "metadata": {},
   "outputs": [
    {
     "data": {
      "text/latex": [
       "$\\displaystyle 2 x \\left(1 - \\tanh^{2}{\\left(x^{2} \\right)}\\right)$"
      ],
      "text/plain": [
       "2*x*(1 - tanh(x**2)**2)"
      ]
     },
     "execution_count": 11,
     "metadata": {},
     "output_type": "execute_result"
    }
   ],
   "source": [
    "zprimex"
   ]
  },
  {
   "cell_type": "code",
   "execution_count": 12,
   "metadata": {},
   "outputs": [],
   "source": [
    "zprimey = z.diff(y)"
   ]
  },
  {
   "cell_type": "code",
   "execution_count": 13,
   "metadata": {},
   "outputs": [
    {
     "data": {
      "text/latex": [
       "$\\displaystyle e^{y}$"
      ],
      "text/plain": [
       "exp(y)"
      ]
     },
     "execution_count": 13,
     "metadata": {},
     "output_type": "execute_result"
    }
   ],
   "source": [
    "zprimey"
   ]
  },
  {
   "cell_type": "code",
   "execution_count": 14,
   "metadata": {},
   "outputs": [],
   "source": [
    "zx = lambdify(x, zprimex, 'numpy')\n",
    "zy = lambdify(y, zprimey, 'numpy')"
   ]
  },
  {
   "cell_type": "code",
   "execution_count": 15,
   "metadata": {},
   "outputs": [],
   "source": [
    "zx1 = zx(xval)\n",
    "zy1 = zy(yval)"
   ]
  },
  {
   "cell_type": "code",
   "execution_count": 16,
   "metadata": {},
   "outputs": [],
   "source": [
    "dz = np.sqrt((((zx1)**2) * (xer1**2)) + (((zy1)**2) * (yer1**2)))"
   ]
  },
  {
   "cell_type": "code",
   "execution_count": 17,
   "metadata": {},
   "outputs": [
    {
     "data": {
      "text/plain": [
       "array([ 0.71871765,  0.57603045,  1.63239358,  1.80323007,  1.34801691,\n",
       "        0.36633058, 10.97540075,  1.63544601, 12.57234558,  2.27871447,\n",
       "        2.90371045,  1.2159832 ,  2.42004729, 17.73131576,  6.96135195,\n",
       "       11.34678125,  1.38924088,  2.64892529,  2.29859567,  2.1261527 ,\n",
       "        0.40045698,  2.69232295,  2.83190116,  0.400389  , 18.48680999,\n",
       "        2.4937856 ,  0.52162352,  0.35838249,  9.09405883,  1.59733762,\n",
       "       13.18993092, 11.4710878 ,  3.68108623,  2.98161105,  5.10561557,\n",
       "        0.10360263, 12.56988463,  0.87394169,  0.73742481,  4.59836443,\n",
       "        2.37630173,  0.46937703,  0.96894988,  2.68957619,  1.13882838,\n",
       "       23.23901647, 14.85560565,  5.36478437,  3.45986429,  2.55728982,\n",
       "        2.95372426, 22.67757094, 20.70050367,  4.18082212,  1.443968  ,\n",
       "       12.44893547,  1.85124303,  3.46491004, 26.56369433,  1.75242218,\n",
       "        3.62789405,  5.01072608, 26.49754718,  2.87553021,  6.93306142,\n",
       "       25.95083133,  3.29860215, 20.59624812, 13.03948447,  2.66495889,\n",
       "        3.69810127,  3.7468011 ,  3.0238975 ,  9.71445724,  1.04919437,\n",
       "       23.57925346,  3.48784943,  0.57030353,  3.21851875,  0.81670932,\n",
       "        3.21167071,  5.12207191,  4.10063174,  1.26597196,  4.11599614,\n",
       "        4.04541519, 26.17925954,  4.19574386,  3.35196605, 14.32666324,\n",
       "        0.2105799 , 10.37556677,  4.27864296,  2.84045032,  4.32224015,\n",
       "        4.12433273,  4.30518363,  3.74585735,  1.30299328,  9.34059903])"
      ]
     },
     "execution_count": 17,
     "metadata": {},
     "output_type": "execute_result"
    }
   ],
   "source": [
    "dz"
   ]
  },
  {
   "cell_type": "code",
   "execution_count": 18,
   "metadata": {},
   "outputs": [],
   "source": [
    "df = pd.DataFrame({'Label' : Label, 'Value' : zval, 'Error' : dz})"
   ]
  },
  {
   "cell_type": "code",
   "execution_count": 19,
   "metadata": {},
   "outputs": [
    {
     "data": {
      "text/html": [
       "<div>\n",
       "<style scoped>\n",
       "    .dataframe tbody tr th:only-of-type {\n",
       "        vertical-align: middle;\n",
       "    }\n",
       "\n",
       "    .dataframe tbody tr th {\n",
       "        vertical-align: top;\n",
       "    }\n",
       "\n",
       "    .dataframe thead th {\n",
       "        text-align: right;\n",
       "    }\n",
       "</style>\n",
       "<table border=\"1\" class=\"dataframe\">\n",
       "  <thead>\n",
       "    <tr style=\"text-align: right;\">\n",
       "      <th></th>\n",
       "      <th>Value</th>\n",
       "      <th>Error</th>\n",
       "    </tr>\n",
       "    <tr>\n",
       "      <th>Label</th>\n",
       "      <th></th>\n",
       "      <th></th>\n",
       "    </tr>\n",
       "  </thead>\n",
       "  <tbody>\n",
       "    <tr>\n",
       "      <th>1</th>\n",
       "      <td>5.782467</td>\n",
       "      <td>0.718718</td>\n",
       "    </tr>\n",
       "    <tr>\n",
       "      <th>2</th>\n",
       "      <td>8.262797</td>\n",
       "      <td>0.576030</td>\n",
       "    </tr>\n",
       "    <tr>\n",
       "      <th>3</th>\n",
       "      <td>4.543658</td>\n",
       "      <td>1.632394</td>\n",
       "    </tr>\n",
       "    <tr>\n",
       "      <th>4</th>\n",
       "      <td>5.239720</td>\n",
       "      <td>1.803230</td>\n",
       "    </tr>\n",
       "    <tr>\n",
       "      <th>5</th>\n",
       "      <td>8.131160</td>\n",
       "      <td>1.348017</td>\n",
       "    </tr>\n",
       "    <tr>\n",
       "      <th>...</th>\n",
       "      <td>...</td>\n",
       "      <td>...</td>\n",
       "    </tr>\n",
       "    <tr>\n",
       "      <th>96</th>\n",
       "      <td>11.393644</td>\n",
       "      <td>4.124333</td>\n",
       "    </tr>\n",
       "    <tr>\n",
       "      <th>97</th>\n",
       "      <td>10.646769</td>\n",
       "      <td>4.305184</td>\n",
       "    </tr>\n",
       "    <tr>\n",
       "      <th>98</th>\n",
       "      <td>14.662574</td>\n",
       "      <td>3.745857</td>\n",
       "    </tr>\n",
       "    <tr>\n",
       "      <th>99</th>\n",
       "      <td>26.290016</td>\n",
       "      <td>1.302993</td>\n",
       "    </tr>\n",
       "    <tr>\n",
       "      <th>100</th>\n",
       "      <td>38.953661</td>\n",
       "      <td>9.340599</td>\n",
       "    </tr>\n",
       "  </tbody>\n",
       "</table>\n",
       "<p>100 rows × 2 columns</p>\n",
       "</div>"
      ],
      "text/plain": [
       "           Value     Error\n",
       "Label                     \n",
       "1       5.782467  0.718718\n",
       "2       8.262797  0.576030\n",
       "3       4.543658  1.632394\n",
       "4       5.239720  1.803230\n",
       "5       8.131160  1.348017\n",
       "...          ...       ...\n",
       "96     11.393644  4.124333\n",
       "97     10.646769  4.305184\n",
       "98     14.662574  3.745857\n",
       "99     26.290016  1.302993\n",
       "100    38.953661  9.340599\n",
       "\n",
       "[100 rows x 2 columns]"
      ]
     },
     "execution_count": 19,
     "metadata": {},
     "output_type": "execute_result"
    }
   ],
   "source": [
    "df.set_index('Label')"
   ]
  },
  {
   "cell_type": "code",
   "execution_count": 20,
   "metadata": {},
   "outputs": [],
   "source": [
    "df.to_csv('Question1-Mahmood Hasnai')"
   ]
  },
  {
   "cell_type": "code",
   "execution_count": 37,
   "metadata": {},
   "outputs": [
    {
     "data": {
      "text/plain": [
       "Text(0.5, 1.0, 'z values with green color and its error bars indicated in red color')"
      ]
     },
     "execution_count": 37,
     "metadata": {},
     "output_type": "execute_result"
    },
    {
     "data": {
      "image/png": "[encoded data removed]",
      "text/plain": [
       "<Figure size 640x480 with 1 Axes>"
      ]
     },
     "metadata": {},
     "output_type": "display_data"
    }
   ],
   "source": [
    "plt.errorbar(range(0, len(zval)), zval, dz, ecolor = 'red',fmt='--',marker = '.', color = 'green')\n",
    "plt.title('z values with green color and its error bars indicated in red color')"
   ]
  }
 ],
 "metadata": {
  "kernelspec": {
   "display_name": "Python 3 (ipykernel)",
   "language": "python",
   "name": "python3"
  },
  "language_info": {
   "codemirror_mode": {
    "name": "ipython",
    "version": 3
   },
   "file_extension": ".py",
   "mimetype": "text/x-python",
   "name": "python",
   "nbconvert_exporter": "python",
   "pygments_lexer": "ipython3",
   "version": "3.8.10"
  }
 },
 "nbformat": 4,
 "nbformat_minor": 4
}
