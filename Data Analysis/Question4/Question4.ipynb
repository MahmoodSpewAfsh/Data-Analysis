{
 "cells": [
  {
   "cell_type": "code",
   "execution_count": 37,
   "metadata": {},
   "outputs": [],
   "source": [
    "import scipy\n",
    "import numpy as np\n",
    "from scipy.stats import entropy  # we have to calculate the shanon entropy to calculate the MI from the given equation in the paper\n",
    "from sklearn import preprocessing"
   ]
  },
  {
   "cell_type": "code",
   "execution_count": 29,
   "metadata": {},
   "outputs": [],
   "source": [
    "Data2 = np.loadtxt(\"0.2.txt\")\n",
    "Data5 = np.loadtxt(\"0.5.txt\")\n",
    "Data8 = np.loadtxt(\"0.8.txt\")"
   ]
  },
  {
   "cell_type": "code",
   "execution_count": 30,
   "metadata": {},
   "outputs": [
    {
     "data": {
      "text/plain": [
       "array([-1.245,  1.344, -1.386, ..., -0.346, -0.232, -0.524])"
      ]
     },
     "execution_count": 30,
     "metadata": {},
     "output_type": "execute_result"
    }
   ],
   "source": [
    "Data2"
   ]
  },
  {
   "cell_type": "code",
   "execution_count": 34,
   "metadata": {},
   "outputs": [
    {
     "name": "stdout",
     "output_type": "stream",
     "text": [
      "1.4972191610629395\n"
     ]
    }
   ],
   "source": [
    "counts, _, _ = np.histogram2d(Data2, Data5, bins=(2, 3))\n",
    "joint_prob = counts / np.sum(counts)\n",
    "print(entropy(joint_prob.flatten()))\n",
    "J25 = entropy(joint_prob.flatten())"
   ]
  },
  {
   "cell_type": "code",
   "execution_count": 35,
   "metadata": {},
   "outputs": [
    {
     "name": "stdout",
     "output_type": "stream",
     "text": [
      "1.4290053673948333\n"
     ]
    }
   ],
   "source": [
    "counts, _, _ = np.histogram2d(Data2, Data8, bins=(2, 3))\n",
    "joint_prob = counts / np.sum(counts)\n",
    "print(entropy(joint_prob.flatten()))\n",
    "J28 = entropy(joint_prob.flatten())"
   ]
  },
  {
   "cell_type": "code",
   "execution_count": 36,
   "metadata": {},
   "outputs": [
    {
     "name": "stdout",
     "output_type": "stream",
     "text": [
      "1.4321246444001798\n"
     ]
    }
   ],
   "source": [
    "counts, _, _ = np.histogram2d(Data5, Data8, bins=(2, 3))\n",
    "joint_prob = counts / np.sum(counts)\n",
    "print(entropy(joint_prob.flatten()))\n",
    "J58 = entropy(joint_prob.flatten())"
   ]
  },
  {
   "cell_type": "code",
   "execution_count": 39,
   "metadata": {},
   "outputs": [],
   "source": [
    "normalized_Data2 = preprocessing.normalize([Data2])\n",
    "normalized_Data5 = preprocessing.normalize([Data5])\n",
    "normalized_Data8 = preprocessing.normalize([Data8])"
   ]
  },
  {
   "cell_type": "code",
   "execution_count": 46,
   "metadata": {},
   "outputs": [],
   "source": [
    "def entropy1(X):\n",
    "        probs = [np.mean(X == c) for c in set(X)]\n",
    "        return np.sum(-p * np.log2(p) for p in probs)"
   ]
  },
  {
   "cell_type": "code",
   "execution_count": 49,
   "metadata": {},
   "outputs": [
    {
     "name": "stderr",
     "output_type": "stream",
     "text": [
      "/tmp/ipykernel_74170/2671976569.py:3: DeprecationWarning: Calling np.sum(generator) is deprecated, and in the future will give a different result. Use np.sum(np.fromiter(generator)) or the python sum builtin instead.\n",
      "  return np.sum(-p * np.log2(p) for p in probs)\n"
     ]
    }
   ],
   "source": [
    "E2 = entropy1(Data2)"
   ]
  },
  {
   "cell_type": "code",
   "execution_count": 50,
   "metadata": {},
   "outputs": [
    {
     "name": "stderr",
     "output_type": "stream",
     "text": [
      "/tmp/ipykernel_74170/2671976569.py:3: DeprecationWarning: Calling np.sum(generator) is deprecated, and in the future will give a different result. Use np.sum(np.fromiter(generator)) or the python sum builtin instead.\n",
      "  return np.sum(-p * np.log2(p) for p in probs)\n"
     ]
    }
   ],
   "source": [
    "E5 = entropy1(Data5)"
   ]
  },
  {
   "cell_type": "code",
   "execution_count": 51,
   "metadata": {},
   "outputs": [
    {
     "name": "stderr",
     "output_type": "stream",
     "text": [
      "/tmp/ipykernel_74170/2671976569.py:3: DeprecationWarning: Calling np.sum(generator) is deprecated, and in the future will give a different result. Use np.sum(np.fromiter(generator)) or the python sum builtin instead.\n",
      "  return np.sum(-p * np.log2(p) for p in probs)\n"
     ]
    }
   ],
   "source": [
    "E8 = entropy1(Data8)"
   ]
  },
  {
   "cell_type": "code",
   "execution_count": 52,
   "metadata": {},
   "outputs": [],
   "source": [
    "MI25 = E2 + E5 - J25\n",
    "MI28 = E2 + E8 - J28\n",
    "MI58 = E8 + E5 - J58"
   ]
  },
  {
   "cell_type": "markdown",
   "metadata": {},
   "source": [
    "Mutual Information of all"
   ]
  },
  {
   "cell_type": "markdown",
   "metadata": {},
   "source": [
    "MI between 0.2txt and 0.5txt"
   ]
  },
  {
   "cell_type": "code",
   "execution_count": 53,
   "metadata": {},
   "outputs": [
    {
     "data": {
      "text/plain": [
       "18.00535660793143"
      ]
     },
     "execution_count": 53,
     "metadata": {},
     "output_type": "execute_result"
    }
   ],
   "source": [
    "MI25"
   ]
  },
  {
   "cell_type": "markdown",
   "metadata": {},
   "source": [
    "MI between 0.2txt and 0.8 txt"
   ]
  },
  {
   "cell_type": "code",
   "execution_count": 54,
   "metadata": {},
   "outputs": [
    {
     "data": {
      "text/plain": [
       "18.059161331773204"
      ]
     },
     "execution_count": 54,
     "metadata": {},
     "output_type": "execute_result"
    }
   ],
   "source": [
    "MI28"
   ]
  },
  {
   "cell_type": "markdown",
   "metadata": {},
   "source": [
    "MI between 0.5txt and 0.8txt"
   ]
  },
  {
   "cell_type": "code",
   "execution_count": 55,
   "metadata": {},
   "outputs": [
    {
     "data": {
      "text/plain": [
       "18.089503639246853"
      ]
     },
     "execution_count": 55,
     "metadata": {},
     "output_type": "execute_result"
    }
   ],
   "source": [
    "MI58"
   ]
  }
 ],
 "metadata": {
  "kernelspec": {
   "display_name": "Python 3",
   "language": "python",
   "name": "python3"
  },
  "language_info": {
   "codemirror_mode": {
    "name": "ipython",
    "version": 3
   },
   "file_extension": ".py",
   "mimetype": "text/x-python",
   "name": "python",
   "nbconvert_exporter": "python",
   "pygments_lexer": "ipython3",
   "version": "3.8.10"
  }
 },
 "nbformat": 4,
 "nbformat_minor": 2
}
